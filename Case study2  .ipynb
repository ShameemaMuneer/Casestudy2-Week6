{
 "cells": [
  {
   "cell_type": "markdown",
   "id": "1579e8cc",
   "metadata": {},
   "source": [
    "# **Case Study on Measures of Central Tendency and Dispersion**"
   ]
  },
  {
   "cell_type": "markdown",
   "id": "b9e79138",
   "metadata": {},
   "source": [
    "# Question"
   ]
  },
  {
   "cell_type": "markdown",
   "id": "1865c537",
   "metadata": {},
   "source": [
    "\n",
    "**An Institution wishes to find out their student’s ability in maths, reading and\n",
    "writing skills. The Institution wants to do an exploratory study to check the\n",
    "following information.**\n",
    "\n",
    "1. Find out how many males and females participated in the test.\n",
    "2. What do you think about the students' parental level of education?\n",
    "3. Who scores the most on average for math, reading and writing based on:\n",
    "\n",
    "   ● Gender\n",
    "   ● Test preparation course\n",
    "\n",
    "4. What do you think about the scoring variation for math, reading and writing\n",
    "   based on:\n",
    "\n",
    "   ● Gender\n",
    "   ● Test preparation course\n",
    " \n",
    "5. The management needs your help to give bonus points to the top 25% of\n",
    "   students based on their maths score, so how will you help the management\n",
    "   to achieve this."
   ]
  },
  {
   "cell_type": "markdown",
   "id": "3e884b86",
   "metadata": {},
   "source": [
    "# Answer"
   ]
  },
  {
   "cell_type": "markdown",
   "id": "09e21226",
   "metadata": {},
   "source": [
    "## Introduction"
   ]
  },
  {
   "cell_type": "markdown",
   "id": "61fedf56",
   "metadata": {},
   "source": [
    "My data explores 5 variables that affect a students test scores.\n",
    "\n",
    "The variables are:\n",
    "\n",
    "1. Gender: Gender of student, M or F\n",
    "\n",
    "2. Race/Ethnicity: Race/ethnicity of student split into 5 groups\n",
    "\n",
    "3. Parents education level: highest degree obtained by parent\n",
    "\n",
    "4. Lunch: If they received a free/reduced or standard lunch\n",
    "\n",
    "5. Test Prep: If they completed a test prep or not\n",
    "\n",
    "The outcome are the following test scores:\n",
    "\n",
    "6. Math Score:Students Math Score\n",
    "\n",
    "7. Reading Score:Students Reading Score\n",
    "\n",
    "8. Writing Score:Students Writing Score\n",
    "\n"
   ]
  },
  {
   "cell_type": "markdown",
   "id": "39749609",
   "metadata": {},
   "source": [
    "# Index"
   ]
  },
  {
   "cell_type": "markdown",
   "id": "6c374de3",
   "metadata": {},
   "source": [
    "1.Total number of males and females participated in the test.\n",
    "\n",
    "2.Summery of the students parental level of education.\n",
    "\n",
    "3.Finding Who scores the most on average for math, reading and writing based on:\n",
    "  ● Gender ● Test preparation course.\n",
    "  \n",
    "4.Displaying visualizations to analyse scoring variation for math, reading and writing based on: \n",
    "  ● Gender ● Test preparation course.\n",
    "  \n",
    "5.Finding top 25% students based on their math score."
   ]
  },
  {
   "cell_type": "code",
   "execution_count": 7,
   "id": "eb496f7a",
   "metadata": {},
   "outputs": [],
   "source": [
    "#Importing python Libraries\n",
    "import numpy as np\n",
    "import pandas as pd\n",
    "import matplotlib.pyplot as plt\n",
    "import seaborn as sns"
   ]
  },
  {
   "cell_type": "code",
   "execution_count": 8,
   "id": "c29a75c0",
   "metadata": {},
   "outputs": [
    {
     "data": {
      "text/html": [
       "<div>\n",
       "<style scoped>\n",
       "    .dataframe tbody tr th:only-of-type {\n",
       "        vertical-align: middle;\n",
       "    }\n",
       "\n",
       "    .dataframe tbody tr th {\n",
       "        vertical-align: top;\n",
       "    }\n",
       "\n",
       "    .dataframe thead th {\n",
       "        text-align: right;\n",
       "    }\n",
       "</style>\n",
       "<table border=\"1\" class=\"dataframe\">\n",
       "  <thead>\n",
       "    <tr style=\"text-align: right;\">\n",
       "      <th></th>\n",
       "      <th>gender</th>\n",
       "      <th>race/ethnicity</th>\n",
       "      <th>parental level of education</th>\n",
       "      <th>lunch</th>\n",
       "      <th>test preparation course</th>\n",
       "      <th>math score</th>\n",
       "      <th>reading score</th>\n",
       "      <th>writing score</th>\n",
       "    </tr>\n",
       "  </thead>\n",
       "  <tbody>\n",
       "    <tr>\n",
       "      <th>0</th>\n",
       "      <td>female</td>\n",
       "      <td>group C</td>\n",
       "      <td>some high school</td>\n",
       "      <td>free/reduced</td>\n",
       "      <td>none</td>\n",
       "      <td>0</td>\n",
       "      <td>17</td>\n",
       "      <td>10</td>\n",
       "    </tr>\n",
       "    <tr>\n",
       "      <th>1</th>\n",
       "      <td>female</td>\n",
       "      <td>group B</td>\n",
       "      <td>high school</td>\n",
       "      <td>free/reduced</td>\n",
       "      <td>none</td>\n",
       "      <td>8</td>\n",
       "      <td>24</td>\n",
       "      <td>23</td>\n",
       "    </tr>\n",
       "    <tr>\n",
       "      <th>2</th>\n",
       "      <td>female</td>\n",
       "      <td>group B</td>\n",
       "      <td>some high school</td>\n",
       "      <td>free/reduced</td>\n",
       "      <td>none</td>\n",
       "      <td>18</td>\n",
       "      <td>32</td>\n",
       "      <td>28</td>\n",
       "    </tr>\n",
       "    <tr>\n",
       "      <th>3</th>\n",
       "      <td>female</td>\n",
       "      <td>group B</td>\n",
       "      <td>some college</td>\n",
       "      <td>standard</td>\n",
       "      <td>none</td>\n",
       "      <td>11</td>\n",
       "      <td>38</td>\n",
       "      <td>32</td>\n",
       "    </tr>\n",
       "    <tr>\n",
       "      <th>4</th>\n",
       "      <td>female</td>\n",
       "      <td>group C</td>\n",
       "      <td>some college</td>\n",
       "      <td>free/reduced</td>\n",
       "      <td>none</td>\n",
       "      <td>22</td>\n",
       "      <td>39</td>\n",
       "      <td>33</td>\n",
       "    </tr>\n",
       "  </tbody>\n",
       "</table>\n",
       "</div>"
      ],
      "text/plain": [
       "   gender race/ethnicity parental level of education         lunch  \\\n",
       "0  female        group C            some high school  free/reduced   \n",
       "1  female        group B                 high school  free/reduced   \n",
       "2  female        group B            some high school  free/reduced   \n",
       "3  female        group B                some college      standard   \n",
       "4  female        group C                some college  free/reduced   \n",
       "\n",
       "  test preparation course  math score  reading score  writing score  \n",
       "0                    none           0             17             10  \n",
       "1                    none           8             24             23  \n",
       "2                    none          18             32             28  \n",
       "3                    none          11             38             32  \n",
       "4                    none          22             39             33  "
      ]
     },
     "execution_count": 8,
     "metadata": {},
     "output_type": "execute_result"
    }
   ],
   "source": [
    "# Reading dataset into python environment\n",
    "data_st_perf=pd.read_csv('StudentsPerformance.csv')\n",
    "data_st_perf.head()"
   ]
  },
  {
   "cell_type": "code",
   "execution_count": 9,
   "id": "11b967fe",
   "metadata": {},
   "outputs": [
    {
     "data": {
      "text/html": [
       "<div>\n",
       "<style scoped>\n",
       "    .dataframe tbody tr th:only-of-type {\n",
       "        vertical-align: middle;\n",
       "    }\n",
       "\n",
       "    .dataframe tbody tr th {\n",
       "        vertical-align: top;\n",
       "    }\n",
       "\n",
       "    .dataframe thead th {\n",
       "        text-align: right;\n",
       "    }\n",
       "</style>\n",
       "<table border=\"1\" class=\"dataframe\">\n",
       "  <thead>\n",
       "    <tr style=\"text-align: right;\">\n",
       "      <th></th>\n",
       "      <th>gender</th>\n",
       "      <th>race/ethnicity</th>\n",
       "      <th>parental level of education</th>\n",
       "      <th>lunch</th>\n",
       "      <th>test preparation course</th>\n",
       "      <th>math score</th>\n",
       "      <th>reading score</th>\n",
       "      <th>writing score</th>\n",
       "    </tr>\n",
       "  </thead>\n",
       "  <tbody>\n",
       "    <tr>\n",
       "      <th>995</th>\n",
       "      <td>male</td>\n",
       "      <td>group E</td>\n",
       "      <td>some college</td>\n",
       "      <td>standard</td>\n",
       "      <td>completed</td>\n",
       "      <td>99</td>\n",
       "      <td>87</td>\n",
       "      <td>81</td>\n",
       "    </tr>\n",
       "    <tr>\n",
       "      <th>996</th>\n",
       "      <td>male</td>\n",
       "      <td>group A</td>\n",
       "      <td>some college</td>\n",
       "      <td>standard</td>\n",
       "      <td>completed</td>\n",
       "      <td>100</td>\n",
       "      <td>96</td>\n",
       "      <td>86</td>\n",
       "    </tr>\n",
       "    <tr>\n",
       "      <th>997</th>\n",
       "      <td>male</td>\n",
       "      <td>group D</td>\n",
       "      <td>some college</td>\n",
       "      <td>standard</td>\n",
       "      <td>completed</td>\n",
       "      <td>100</td>\n",
       "      <td>97</td>\n",
       "      <td>99</td>\n",
       "    </tr>\n",
       "    <tr>\n",
       "      <th>998</th>\n",
       "      <td>male</td>\n",
       "      <td>group E</td>\n",
       "      <td>associate's degree</td>\n",
       "      <td>free/reduced</td>\n",
       "      <td>completed</td>\n",
       "      <td>100</td>\n",
       "      <td>100</td>\n",
       "      <td>93</td>\n",
       "    </tr>\n",
       "    <tr>\n",
       "      <th>999</th>\n",
       "      <td>male</td>\n",
       "      <td>group E</td>\n",
       "      <td>bachelor's degree</td>\n",
       "      <td>standard</td>\n",
       "      <td>completed</td>\n",
       "      <td>100</td>\n",
       "      <td>100</td>\n",
       "      <td>100</td>\n",
       "    </tr>\n",
       "  </tbody>\n",
       "</table>\n",
       "</div>"
      ],
      "text/plain": [
       "    gender race/ethnicity parental level of education         lunch  \\\n",
       "995   male        group E                some college      standard   \n",
       "996   male        group A                some college      standard   \n",
       "997   male        group D                some college      standard   \n",
       "998   male        group E          associate's degree  free/reduced   \n",
       "999   male        group E           bachelor's degree      standard   \n",
       "\n",
       "    test preparation course  math score  reading score  writing score  \n",
       "995               completed          99             87             81  \n",
       "996               completed         100             96             86  \n",
       "997               completed         100             97             99  \n",
       "998               completed         100            100             93  \n",
       "999               completed         100            100            100  "
      ]
     },
     "execution_count": 9,
     "metadata": {},
     "output_type": "execute_result"
    }
   ],
   "source": [
    "data_st_perf.tail()"
   ]
  },
  {
   "cell_type": "code",
   "execution_count": 10,
   "id": "0ccea28b",
   "metadata": {},
   "outputs": [
    {
     "data": {
      "text/plain": [
       "Index(['gender', 'race/ethnicity', 'parental level of education', 'lunch',\n",
       "       'test preparation course', 'math score', 'reading score',\n",
       "       'writing score'],\n",
       "      dtype='object')"
      ]
     },
     "execution_count": 10,
     "metadata": {},
     "output_type": "execute_result"
    }
   ],
   "source": [
    "# showing columns\n",
    "data_st_perf.columns"
   ]
  },
  {
   "cell_type": "code",
   "execution_count": 11,
   "id": "6a7a486a",
   "metadata": {},
   "outputs": [
    {
     "data": {
      "text/plain": [
       "(1000, 8)"
      ]
     },
     "execution_count": 11,
     "metadata": {},
     "output_type": "execute_result"
    }
   ],
   "source": [
    "# shape of the dataset\n",
    "data_st_perf.shape"
   ]
  },
  {
   "cell_type": "markdown",
   "id": "55095384",
   "metadata": {},
   "source": [
    "## 1.Total number of males and females participated in the test."
   ]
  },
  {
   "cell_type": "code",
   "execution_count": 12,
   "id": "66e9c22e",
   "metadata": {
    "scrolled": true
   },
   "outputs": [
    {
     "data": {
      "text/plain": [
       "array(['female', 'male'], dtype=object)"
      ]
     },
     "execution_count": 12,
     "metadata": {},
     "output_type": "execute_result"
    }
   ],
   "source": [
    "# showing unique values in gender column\n",
    "data_st_perf['gender'].unique()"
   ]
  },
  {
   "cell_type": "code",
   "execution_count": 13,
   "id": "115b35bb",
   "metadata": {},
   "outputs": [
    {
     "data": {
      "text/html": [
       "<div>\n",
       "<style scoped>\n",
       "    .dataframe tbody tr th:only-of-type {\n",
       "        vertical-align: middle;\n",
       "    }\n",
       "\n",
       "    .dataframe tbody tr th {\n",
       "        vertical-align: top;\n",
       "    }\n",
       "\n",
       "    .dataframe thead th {\n",
       "        text-align: right;\n",
       "    }\n",
       "</style>\n",
       "<table border=\"1\" class=\"dataframe\">\n",
       "  <thead>\n",
       "    <tr style=\"text-align: right;\">\n",
       "      <th></th>\n",
       "      <th>0</th>\n",
       "    </tr>\n",
       "    <tr>\n",
       "      <th>gender</th>\n",
       "      <th></th>\n",
       "    </tr>\n",
       "  </thead>\n",
       "  <tbody>\n",
       "    <tr>\n",
       "      <th>female</th>\n",
       "      <td>518</td>\n",
       "    </tr>\n",
       "    <tr>\n",
       "      <th>male</th>\n",
       "      <td>482</td>\n",
       "    </tr>\n",
       "  </tbody>\n",
       "</table>\n",
       "</div>"
      ],
      "text/plain": [
       "          0\n",
       "gender     \n",
       "female  518\n",
       "male    482"
      ]
     },
     "execution_count": 13,
     "metadata": {},
     "output_type": "execute_result"
    }
   ],
   "source": [
    "# showing number of males and females participated by using groupby () function\n",
    "male_female=data_st_perf.groupby(['gender']).size().to_frame()\n",
    "male_female"
   ]
  },
  {
   "cell_type": "markdown",
   "id": "6da75be8",
   "metadata": {},
   "source": [
    "## 2.Summery of the students parental level of education."
   ]
  },
  {
   "cell_type": "code",
   "execution_count": 14,
   "id": "63e0a7de",
   "metadata": {},
   "outputs": [
    {
     "data": {
      "text/html": [
       "<div>\n",
       "<style scoped>\n",
       "    .dataframe tbody tr th:only-of-type {\n",
       "        vertical-align: middle;\n",
       "    }\n",
       "\n",
       "    .dataframe tbody tr th {\n",
       "        vertical-align: top;\n",
       "    }\n",
       "\n",
       "    .dataframe thead th {\n",
       "        text-align: right;\n",
       "    }\n",
       "</style>\n",
       "<table border=\"1\" class=\"dataframe\">\n",
       "  <thead>\n",
       "    <tr style=\"text-align: right;\">\n",
       "      <th></th>\n",
       "      <th>0</th>\n",
       "    </tr>\n",
       "    <tr>\n",
       "      <th>parental level of education</th>\n",
       "      <th></th>\n",
       "    </tr>\n",
       "  </thead>\n",
       "  <tbody>\n",
       "    <tr>\n",
       "      <th>associate's degree</th>\n",
       "      <td>222</td>\n",
       "    </tr>\n",
       "    <tr>\n",
       "      <th>bachelor's degree</th>\n",
       "      <td>118</td>\n",
       "    </tr>\n",
       "    <tr>\n",
       "      <th>high school</th>\n",
       "      <td>196</td>\n",
       "    </tr>\n",
       "    <tr>\n",
       "      <th>master's degree</th>\n",
       "      <td>59</td>\n",
       "    </tr>\n",
       "    <tr>\n",
       "      <th>some college</th>\n",
       "      <td>226</td>\n",
       "    </tr>\n",
       "    <tr>\n",
       "      <th>some high school</th>\n",
       "      <td>179</td>\n",
       "    </tr>\n",
       "  </tbody>\n",
       "</table>\n",
       "</div>"
      ],
      "text/plain": [
       "                               0\n",
       "parental level of education     \n",
       "associate's degree           222\n",
       "bachelor's degree            118\n",
       "high school                  196\n",
       "master's degree               59\n",
       "some college                 226\n",
       "some high school             179"
      ]
     },
     "execution_count": 14,
     "metadata": {},
     "output_type": "execute_result"
    }
   ],
   "source": [
    "# showing student's parental level of education\n",
    "parent_edu=data_st_perf.groupby(['parental level of education']).size().to_frame()\n",
    "parent_edu"
   ]
  },
  {
   "cell_type": "markdown",
   "id": "6fbf4204",
   "metadata": {},
   "source": [
    "* parents are well educated\n",
    "* more than 200 parents have completed associate's degree\n",
    "* around 60 parents got master's degree\n"
   ]
  },
  {
   "cell_type": "markdown",
   "id": "803cf145",
   "metadata": {},
   "source": [
    "## 3.Finding Who scores the most on average for math, reading and writing based on: ● Gender ● Test preparation course."
   ]
  },
  {
   "cell_type": "code",
   "execution_count": 15,
   "id": "2ead7cdf",
   "metadata": {},
   "outputs": [
    {
     "data": {
      "text/html": [
       "<div>\n",
       "<style scoped>\n",
       "    .dataframe tbody tr th:only-of-type {\n",
       "        vertical-align: middle;\n",
       "    }\n",
       "\n",
       "    .dataframe tbody tr th {\n",
       "        vertical-align: top;\n",
       "    }\n",
       "\n",
       "    .dataframe thead th {\n",
       "        text-align: right;\n",
       "    }\n",
       "</style>\n",
       "<table border=\"1\" class=\"dataframe\">\n",
       "  <thead>\n",
       "    <tr style=\"text-align: right;\">\n",
       "      <th></th>\n",
       "      <th>math score</th>\n",
       "      <th>reading score</th>\n",
       "      <th>writing score</th>\n",
       "    </tr>\n",
       "  </thead>\n",
       "  <tbody>\n",
       "    <tr>\n",
       "      <th>count</th>\n",
       "      <td>1000.000000</td>\n",
       "      <td>1000.000000</td>\n",
       "      <td>1000.000000</td>\n",
       "    </tr>\n",
       "    <tr>\n",
       "      <th>mean</th>\n",
       "      <td>66.001000</td>\n",
       "      <td>69.195000</td>\n",
       "      <td>68.119000</td>\n",
       "    </tr>\n",
       "    <tr>\n",
       "      <th>std</th>\n",
       "      <td>15.569567</td>\n",
       "      <td>14.706436</td>\n",
       "      <td>15.226381</td>\n",
       "    </tr>\n",
       "    <tr>\n",
       "      <th>min</th>\n",
       "      <td>0.000000</td>\n",
       "      <td>17.000000</td>\n",
       "      <td>10.000000</td>\n",
       "    </tr>\n",
       "    <tr>\n",
       "      <th>25%</th>\n",
       "      <td>57.000000</td>\n",
       "      <td>59.000000</td>\n",
       "      <td>58.000000</td>\n",
       "    </tr>\n",
       "    <tr>\n",
       "      <th>50%</th>\n",
       "      <td>66.000000</td>\n",
       "      <td>70.000000</td>\n",
       "      <td>69.000000</td>\n",
       "    </tr>\n",
       "    <tr>\n",
       "      <th>75%</th>\n",
       "      <td>77.000000</td>\n",
       "      <td>79.250000</td>\n",
       "      <td>79.000000</td>\n",
       "    </tr>\n",
       "    <tr>\n",
       "      <th>max</th>\n",
       "      <td>100.000000</td>\n",
       "      <td>100.000000</td>\n",
       "      <td>100.000000</td>\n",
       "    </tr>\n",
       "  </tbody>\n",
       "</table>\n",
       "</div>"
      ],
      "text/plain": [
       "        math score  reading score  writing score\n",
       "count  1000.000000    1000.000000    1000.000000\n",
       "mean     66.001000      69.195000      68.119000\n",
       "std      15.569567      14.706436      15.226381\n",
       "min       0.000000      17.000000      10.000000\n",
       "25%      57.000000      59.000000      58.000000\n",
       "50%      66.000000      70.000000      69.000000\n",
       "75%      77.000000      79.250000      79.000000\n",
       "max     100.000000     100.000000     100.000000"
      ]
     },
     "execution_count": 15,
     "metadata": {},
     "output_type": "execute_result"
    }
   ],
   "source": [
    "data_st_perf.describe()"
   ]
  },
  {
   "cell_type": "code",
   "execution_count": 144,
   "id": "b89f6ff7",
   "metadata": {},
   "outputs": [
    {
     "data": {
      "text/html": [
       "<div>\n",
       "<style scoped>\n",
       "    .dataframe tbody tr th:only-of-type {\n",
       "        vertical-align: middle;\n",
       "    }\n",
       "\n",
       "    .dataframe tbody tr th {\n",
       "        vertical-align: top;\n",
       "    }\n",
       "\n",
       "    .dataframe thead th {\n",
       "        text-align: right;\n",
       "    }\n",
       "</style>\n",
       "<table border=\"1\" class=\"dataframe\">\n",
       "  <thead>\n",
       "    <tr style=\"text-align: right;\">\n",
       "      <th></th>\n",
       "      <th>math score</th>\n",
       "      <th>reading score</th>\n",
       "      <th>writing score</th>\n",
       "    </tr>\n",
       "    <tr>\n",
       "      <th>gender</th>\n",
       "      <th></th>\n",
       "      <th></th>\n",
       "      <th></th>\n",
       "    </tr>\n",
       "  </thead>\n",
       "  <tbody>\n",
       "    <tr>\n",
       "      <th>female</th>\n",
       "      <td>63.376448</td>\n",
       "      <td>72.590734</td>\n",
       "      <td>72.467181</td>\n",
       "    </tr>\n",
       "    <tr>\n",
       "      <th>male</th>\n",
       "      <td>68.821577</td>\n",
       "      <td>65.545643</td>\n",
       "      <td>63.446058</td>\n",
       "    </tr>\n",
       "  </tbody>\n",
       "</table>\n",
       "</div>"
      ],
      "text/plain": [
       "        math score  reading score  writing score\n",
       "gender                                          \n",
       "female   63.376448      72.590734      72.467181\n",
       "male     68.821577      65.545643      63.446058"
      ]
     },
     "execution_count": 144,
     "metadata": {},
     "output_type": "execute_result"
    }
   ],
   "source": [
    "# showing mean of math,reading,writing scores with respect to gender\n",
    "data_st_perf.groupby(['gender']).mean()"
   ]
  },
  {
   "cell_type": "markdown",
   "id": "9601c586",
   "metadata": {},
   "source": [
    "* female scored most in all having an average score of 69.478121.where as,male got an average score of 65.9377593."
   ]
  },
  {
   "cell_type": "code",
   "execution_count": 153,
   "id": "0d31a4b5",
   "metadata": {},
   "outputs": [
    {
     "data": {
      "text/html": [
       "<div>\n",
       "<style scoped>\n",
       "    .dataframe tbody tr th:only-of-type {\n",
       "        vertical-align: middle;\n",
       "    }\n",
       "\n",
       "    .dataframe tbody tr th {\n",
       "        vertical-align: top;\n",
       "    }\n",
       "\n",
       "    .dataframe thead th {\n",
       "        text-align: right;\n",
       "    }\n",
       "</style>\n",
       "<table border=\"1\" class=\"dataframe\">\n",
       "  <thead>\n",
       "    <tr style=\"text-align: right;\">\n",
       "      <th></th>\n",
       "      <th>math score</th>\n",
       "      <th>reading score</th>\n",
       "      <th>writing score</th>\n",
       "    </tr>\n",
       "    <tr>\n",
       "      <th>test preparation course</th>\n",
       "      <th></th>\n",
       "      <th></th>\n",
       "      <th></th>\n",
       "    </tr>\n",
       "  </thead>\n",
       "  <tbody>\n",
       "    <tr>\n",
       "      <th>completed</th>\n",
       "      <td>69.96648</td>\n",
       "      <td>74.175978</td>\n",
       "      <td>74.684358</td>\n",
       "    </tr>\n",
       "    <tr>\n",
       "      <th>none</th>\n",
       "      <td>63.78972</td>\n",
       "      <td>66.417445</td>\n",
       "      <td>64.457944</td>\n",
       "    </tr>\n",
       "  </tbody>\n",
       "</table>\n",
       "</div>"
      ],
      "text/plain": [
       "                         math score  reading score  writing score\n",
       "test preparation course                                          \n",
       "completed                  69.96648      74.175978      74.684358\n",
       "none                       63.78972      66.417445      64.457944"
      ]
     },
     "execution_count": 153,
     "metadata": {},
     "output_type": "execute_result"
    }
   ],
   "source": [
    "data_st_perf.groupby(['test preparation course']).mean()"
   ]
  },
  {
   "cell_type": "markdown",
   "id": "8ffa245d",
   "metadata": {},
   "source": [
    "* Students who completed the test preparation course scored in all test having an average score of 72.942272.where as,others who note completed the course lag behind with an average score of 64.8883697"
   ]
  },
  {
   "cell_type": "markdown",
   "id": "cf0decec",
   "metadata": {},
   "source": [
    "## 4.Displaying visualizations to analyse scoring variation for math, reading and writing based on: ● Gender ● Test preparation course."
   ]
  },
  {
   "cell_type": "code",
   "execution_count": 16,
   "id": "ff520566",
   "metadata": {
    "scrolled": true
   },
   "outputs": [
    {
     "data": {
      "text/html": [
       "<div>\n",
       "<style scoped>\n",
       "    .dataframe tbody tr th:only-of-type {\n",
       "        vertical-align: middle;\n",
       "    }\n",
       "\n",
       "    .dataframe tbody tr th {\n",
       "        vertical-align: top;\n",
       "    }\n",
       "\n",
       "    .dataframe thead th {\n",
       "        text-align: right;\n",
       "    }\n",
       "</style>\n",
       "<table border=\"1\" class=\"dataframe\">\n",
       "  <thead>\n",
       "    <tr style=\"text-align: right;\">\n",
       "      <th></th>\n",
       "      <th>gender</th>\n",
       "      <th>test preparation course</th>\n",
       "      <th>math score</th>\n",
       "      <th>reading score</th>\n",
       "      <th>writing score</th>\n",
       "    </tr>\n",
       "  </thead>\n",
       "  <tbody>\n",
       "    <tr>\n",
       "      <th>0</th>\n",
       "      <td>female</td>\n",
       "      <td>none</td>\n",
       "      <td>0</td>\n",
       "      <td>17</td>\n",
       "      <td>10</td>\n",
       "    </tr>\n",
       "    <tr>\n",
       "      <th>1</th>\n",
       "      <td>female</td>\n",
       "      <td>none</td>\n",
       "      <td>8</td>\n",
       "      <td>24</td>\n",
       "      <td>23</td>\n",
       "    </tr>\n",
       "    <tr>\n",
       "      <th>2</th>\n",
       "      <td>female</td>\n",
       "      <td>none</td>\n",
       "      <td>18</td>\n",
       "      <td>32</td>\n",
       "      <td>28</td>\n",
       "    </tr>\n",
       "    <tr>\n",
       "      <th>3</th>\n",
       "      <td>female</td>\n",
       "      <td>none</td>\n",
       "      <td>11</td>\n",
       "      <td>38</td>\n",
       "      <td>32</td>\n",
       "    </tr>\n",
       "    <tr>\n",
       "      <th>4</th>\n",
       "      <td>female</td>\n",
       "      <td>none</td>\n",
       "      <td>22</td>\n",
       "      <td>39</td>\n",
       "      <td>33</td>\n",
       "    </tr>\n",
       "    <tr>\n",
       "      <th>...</th>\n",
       "      <td>...</td>\n",
       "      <td>...</td>\n",
       "      <td>...</td>\n",
       "      <td>...</td>\n",
       "      <td>...</td>\n",
       "    </tr>\n",
       "    <tr>\n",
       "      <th>995</th>\n",
       "      <td>male</td>\n",
       "      <td>completed</td>\n",
       "      <td>99</td>\n",
       "      <td>87</td>\n",
       "      <td>81</td>\n",
       "    </tr>\n",
       "    <tr>\n",
       "      <th>996</th>\n",
       "      <td>male</td>\n",
       "      <td>completed</td>\n",
       "      <td>100</td>\n",
       "      <td>96</td>\n",
       "      <td>86</td>\n",
       "    </tr>\n",
       "    <tr>\n",
       "      <th>997</th>\n",
       "      <td>male</td>\n",
       "      <td>completed</td>\n",
       "      <td>100</td>\n",
       "      <td>97</td>\n",
       "      <td>99</td>\n",
       "    </tr>\n",
       "    <tr>\n",
       "      <th>998</th>\n",
       "      <td>male</td>\n",
       "      <td>completed</td>\n",
       "      <td>100</td>\n",
       "      <td>100</td>\n",
       "      <td>93</td>\n",
       "    </tr>\n",
       "    <tr>\n",
       "      <th>999</th>\n",
       "      <td>male</td>\n",
       "      <td>completed</td>\n",
       "      <td>100</td>\n",
       "      <td>100</td>\n",
       "      <td>100</td>\n",
       "    </tr>\n",
       "  </tbody>\n",
       "</table>\n",
       "<p>1000 rows × 5 columns</p>\n",
       "</div>"
      ],
      "text/plain": [
       "     gender test preparation course  math score  reading score  writing score\n",
       "0    female                    none           0             17             10\n",
       "1    female                    none           8             24             23\n",
       "2    female                    none          18             32             28\n",
       "3    female                    none          11             38             32\n",
       "4    female                    none          22             39             33\n",
       "..      ...                     ...         ...            ...            ...\n",
       "995    male               completed          99             87             81\n",
       "996    male               completed         100             96             86\n",
       "997    male               completed         100             97             99\n",
       "998    male               completed         100            100             93\n",
       "999    male               completed         100            100            100\n",
       "\n",
       "[1000 rows x 5 columns]"
      ]
     },
     "execution_count": 16,
     "metadata": {},
     "output_type": "execute_result"
    }
   ],
   "source": [
    "# Droping some un necessary columns for Creating new data for visualization \n",
    "student=data_st_perf.drop(['race/ethnicity','lunch','parental level of education'],axis=1)\n",
    "student"
   ]
  },
  {
   "cell_type": "markdown",
   "id": "43552504",
   "metadata": {},
   "source": [
    "### Data Visualisations"
   ]
  },
  {
   "cell_type": "code",
   "execution_count": 17,
   "id": "c7557839",
   "metadata": {
    "scrolled": true
   },
   "outputs": [
    {
     "data": {
      "text/plain": [
       "Text(0.5, 1.0, 'Math score vs Gender and Test preparation course')"
      ]
     },
     "execution_count": 17,
     "metadata": {},
     "output_type": "execute_result"
    },
    {
     "data": {
      "image/png": "[encoded data removed]",
      "text/plain": [
       "<Figure size 432x288 with 1 Axes>"
      ]
     },
     "metadata": {
      "needs_background": "light"
     },
     "output_type": "display_data"
    }
   ],
   "source": [
    "# plotting box plot on math score vs Gender and Test preparation course\n",
    "sns.boxplot(x='gender',y='math score',hue='test preparation course',data=student)\n",
    "plt.title('Math score vs Gender and Test preparation course',fontsize=18)"
   ]
  },
  {
   "cell_type": "markdown",
   "id": "c205dbdb",
   "metadata": {},
   "source": [
    "### Insights"
   ]
  },
  {
   "cell_type": "markdown",
   "id": "c99be4d9",
   "metadata": {},
   "source": [
    "* The data is concentrated between 50-80\n",
    "* Here male who completed the test preparation course has achieved highest score\n",
    "* female who not completed the course shows large variations starting from the zero."
   ]
  },
  {
   "cell_type": "code",
   "execution_count": 18,
   "id": "ea6f9cca",
   "metadata": {},
   "outputs": [
    {
     "data": {
      "text/plain": [
       "Text(0.5, 1.0, 'Reading score vs Gender and Test preparation course')"
      ]
     },
     "execution_count": 18,
     "metadata": {},
     "output_type": "execute_result"
    },
    {
     "data": {
      "image/png": "[encoded data removed]",
      "text/plain": [
       "<Figure size 432x288 with 1 Axes>"
      ]
     },
     "metadata": {
      "needs_background": "light"
     },
     "output_type": "display_data"
    }
   ],
   "source": [
    "# plotting box plot on Reading score vs Gender and Test preparation course\n",
    "sns.boxplot(x='gender',y='reading score',hue='test preparation course',data=student)\n",
    "plt.title('Reading score vs Gender and Test preparation course',fontsize=18)"
   ]
  },
  {
   "cell_type": "markdown",
   "id": "0cafe4d6",
   "metadata": {},
   "source": [
    "### Insights"
   ]
  },
  {
   "cell_type": "markdown",
   "id": "7b97a73b",
   "metadata": {},
   "source": [
    "* when taking the reading score,the concentrated data is between 50-85\n",
    "* here,female who completed the test preparation course scored most,while the male who not completed the course scored least on the average basis."
   ]
  },
  {
   "cell_type": "code",
   "execution_count": 19,
   "id": "ca8858a0",
   "metadata": {},
   "outputs": [
    {
     "data": {
      "text/plain": [
       "Text(0.5, 1.0, 'Writing score vs Gender and Test preparation course')"
      ]
     },
     "execution_count": 19,
     "metadata": {},
     "output_type": "execute_result"
    },
    {
     "data": {
      "image/png": "[encoded data removed]",
      "text/plain": [
       "<Figure size 432x288 with 1 Axes>"
      ]
     },
     "metadata": {
      "needs_background": "light"
     },
     "output_type": "display_data"
    }
   ],
   "source": [
    "# plotting box plot on writing score vs Gender and Test preparation course\n",
    "sns.boxplot(x='gender',y='writing score',hue='test preparation course',data=student)\n",
    "plt.title('Writing score vs Gender and Test preparation course',fontsize=18)"
   ]
  },
  {
   "cell_type": "markdown",
   "id": "637110fe",
   "metadata": {},
   "source": [
    "### Insights"
   ]
  },
  {
   "cell_type": "markdown",
   "id": "3c9b2385",
   "metadata": {},
   "source": [
    "* In writing score,the data concentrated between 50-87\n",
    "* here also female who completed the test preparation course scored most having an average score of 80\n"
   ]
  },
  {
   "cell_type": "markdown",
   "id": "e656b0c9",
   "metadata": {},
   "source": [
    "**Compairing all the visualisations, the variation in math,reading and writing scores are small** "
   ]
  },
  {
   "cell_type": "markdown",
   "id": "8bc94856",
   "metadata": {},
   "source": [
    "## 5.Finding top 25% students based on their math score."
   ]
  },
  {
   "cell_type": "code",
   "execution_count": 20,
   "id": "791b2f43",
   "metadata": {},
   "outputs": [
    {
     "data": {
      "text/html": [
       "<div>\n",
       "<style scoped>\n",
       "    .dataframe tbody tr th:only-of-type {\n",
       "        vertical-align: middle;\n",
       "    }\n",
       "\n",
       "    .dataframe tbody tr th {\n",
       "        vertical-align: top;\n",
       "    }\n",
       "\n",
       "    .dataframe thead th {\n",
       "        text-align: right;\n",
       "    }\n",
       "</style>\n",
       "<table border=\"1\" class=\"dataframe\">\n",
       "  <thead>\n",
       "    <tr style=\"text-align: right;\">\n",
       "      <th></th>\n",
       "      <th>index</th>\n",
       "      <th>gender</th>\n",
       "      <th>race/ethnicity</th>\n",
       "      <th>parental level of education</th>\n",
       "      <th>lunch</th>\n",
       "      <th>test preparation course</th>\n",
       "      <th>math score</th>\n",
       "      <th>reading score</th>\n",
       "      <th>writing score</th>\n",
       "    </tr>\n",
       "  </thead>\n",
       "  <tbody>\n",
       "    <tr>\n",
       "      <th>0</th>\n",
       "      <td>999</td>\n",
       "      <td>male</td>\n",
       "      <td>group E</td>\n",
       "      <td>bachelor's degree</td>\n",
       "      <td>standard</td>\n",
       "      <td>completed</td>\n",
       "      <td>100</td>\n",
       "      <td>100</td>\n",
       "      <td>100</td>\n",
       "    </tr>\n",
       "    <tr>\n",
       "      <th>1</th>\n",
       "      <td>996</td>\n",
       "      <td>male</td>\n",
       "      <td>group A</td>\n",
       "      <td>some college</td>\n",
       "      <td>standard</td>\n",
       "      <td>completed</td>\n",
       "      <td>100</td>\n",
       "      <td>96</td>\n",
       "      <td>86</td>\n",
       "    </tr>\n",
       "    <tr>\n",
       "      <th>2</th>\n",
       "      <td>515</td>\n",
       "      <td>female</td>\n",
       "      <td>group E</td>\n",
       "      <td>some college</td>\n",
       "      <td>standard</td>\n",
       "      <td>none</td>\n",
       "      <td>100</td>\n",
       "      <td>92</td>\n",
       "      <td>97</td>\n",
       "    </tr>\n",
       "    <tr>\n",
       "      <th>3</th>\n",
       "      <td>517</td>\n",
       "      <td>female</td>\n",
       "      <td>group E</td>\n",
       "      <td>associate's degree</td>\n",
       "      <td>standard</td>\n",
       "      <td>none</td>\n",
       "      <td>100</td>\n",
       "      <td>100</td>\n",
       "      <td>100</td>\n",
       "    </tr>\n",
       "    <tr>\n",
       "      <th>4</th>\n",
       "      <td>516</td>\n",
       "      <td>female</td>\n",
       "      <td>group E</td>\n",
       "      <td>bachelor's degree</td>\n",
       "      <td>standard</td>\n",
       "      <td>none</td>\n",
       "      <td>100</td>\n",
       "      <td>100</td>\n",
       "      <td>100</td>\n",
       "    </tr>\n",
       "    <tr>\n",
       "      <th>...</th>\n",
       "      <td>...</td>\n",
       "      <td>...</td>\n",
       "      <td>...</td>\n",
       "      <td>...</td>\n",
       "      <td>...</td>\n",
       "      <td>...</td>\n",
       "      <td>...</td>\n",
       "      <td>...</td>\n",
       "      <td>...</td>\n",
       "    </tr>\n",
       "    <tr>\n",
       "      <th>245</th>\n",
       "      <td>856</td>\n",
       "      <td>male</td>\n",
       "      <td>group E</td>\n",
       "      <td>some high school</td>\n",
       "      <td>standard</td>\n",
       "      <td>completed</td>\n",
       "      <td>77</td>\n",
       "      <td>76</td>\n",
       "      <td>77</td>\n",
       "    </tr>\n",
       "    <tr>\n",
       "      <th>246</th>\n",
       "      <td>855</td>\n",
       "      <td>male</td>\n",
       "      <td>group E</td>\n",
       "      <td>associate's degree</td>\n",
       "      <td>free/reduced</td>\n",
       "      <td>completed</td>\n",
       "      <td>77</td>\n",
       "      <td>69</td>\n",
       "      <td>68</td>\n",
       "    </tr>\n",
       "    <tr>\n",
       "      <th>247</th>\n",
       "      <td>854</td>\n",
       "      <td>male</td>\n",
       "      <td>group D</td>\n",
       "      <td>some high school</td>\n",
       "      <td>standard</td>\n",
       "      <td>completed</td>\n",
       "      <td>77</td>\n",
       "      <td>68</td>\n",
       "      <td>69</td>\n",
       "    </tr>\n",
       "    <tr>\n",
       "      <th>248</th>\n",
       "      <td>853</td>\n",
       "      <td>male</td>\n",
       "      <td>group D</td>\n",
       "      <td>associate's degree</td>\n",
       "      <td>free/reduced</td>\n",
       "      <td>none</td>\n",
       "      <td>77</td>\n",
       "      <td>78</td>\n",
       "      <td>73</td>\n",
       "    </tr>\n",
       "    <tr>\n",
       "      <th>249</th>\n",
       "      <td>852</td>\n",
       "      <td>male</td>\n",
       "      <td>group D</td>\n",
       "      <td>some college</td>\n",
       "      <td>free/reduced</td>\n",
       "      <td>none</td>\n",
       "      <td>77</td>\n",
       "      <td>62</td>\n",
       "      <td>64</td>\n",
       "    </tr>\n",
       "  </tbody>\n",
       "</table>\n",
       "<p>250 rows × 9 columns</p>\n",
       "</div>"
      ],
      "text/plain": [
       "     index  gender race/ethnicity parental level of education         lunch  \\\n",
       "0      999    male        group E           bachelor's degree      standard   \n",
       "1      996    male        group A                some college      standard   \n",
       "2      515  female        group E                some college      standard   \n",
       "3      517  female        group E          associate's degree      standard   \n",
       "4      516  female        group E           bachelor's degree      standard   \n",
       "..     ...     ...            ...                         ...           ...   \n",
       "245    856    male        group E            some high school      standard   \n",
       "246    855    male        group E          associate's degree  free/reduced   \n",
       "247    854    male        group D            some high school      standard   \n",
       "248    853    male        group D          associate's degree  free/reduced   \n",
       "249    852    male        group D                some college  free/reduced   \n",
       "\n",
       "    test preparation course  math score  reading score  writing score  \n",
       "0                 completed         100            100            100  \n",
       "1                 completed         100             96             86  \n",
       "2                      none         100             92             97  \n",
       "3                      none         100            100            100  \n",
       "4                      none         100            100            100  \n",
       "..                      ...         ...            ...            ...  \n",
       "245               completed          77             76             77  \n",
       "246               completed          77             69             68  \n",
       "247               completed          77             68             69  \n",
       "248                    none          77             78             73  \n",
       "249                    none          77             62             64  \n",
       "\n",
       "[250 rows x 9 columns]"
      ]
     },
     "execution_count": 20,
     "metadata": {},
     "output_type": "execute_result"
    }
   ],
   "source": [
    "#sorting the data set in Descending order of math score and assigning into a variable\n",
    "sorted_data=data_st_perf.sort_values('math score',ascending=False).head(250)\n",
    "#Reset index from 0-250\n",
    "math_sort=sorted_data.reset_index()\n",
    "math_sort"
   ]
  },
  {
   "cell_type": "code",
   "execution_count": 21,
   "id": "74185df3",
   "metadata": {},
   "outputs": [
    {
     "data": {
      "text/html": [
       "<div>\n",
       "<style scoped>\n",
       "    .dataframe tbody tr th:only-of-type {\n",
       "        vertical-align: middle;\n",
       "    }\n",
       "\n",
       "    .dataframe tbody tr th {\n",
       "        vertical-align: top;\n",
       "    }\n",
       "\n",
       "    .dataframe thead th {\n",
       "        text-align: right;\n",
       "    }\n",
       "</style>\n",
       "<table border=\"1\" class=\"dataframe\">\n",
       "  <thead>\n",
       "    <tr style=\"text-align: right;\">\n",
       "      <th></th>\n",
       "      <th>gender</th>\n",
       "      <th>test preparation course</th>\n",
       "      <th>math score</th>\n",
       "    </tr>\n",
       "  </thead>\n",
       "  <tbody>\n",
       "    <tr>\n",
       "      <th>0</th>\n",
       "      <td>male</td>\n",
       "      <td>completed</td>\n",
       "      <td>100</td>\n",
       "    </tr>\n",
       "    <tr>\n",
       "      <th>1</th>\n",
       "      <td>male</td>\n",
       "      <td>completed</td>\n",
       "      <td>100</td>\n",
       "    </tr>\n",
       "    <tr>\n",
       "      <th>2</th>\n",
       "      <td>female</td>\n",
       "      <td>none</td>\n",
       "      <td>100</td>\n",
       "    </tr>\n",
       "    <tr>\n",
       "      <th>3</th>\n",
       "      <td>female</td>\n",
       "      <td>none</td>\n",
       "      <td>100</td>\n",
       "    </tr>\n",
       "    <tr>\n",
       "      <th>4</th>\n",
       "      <td>female</td>\n",
       "      <td>none</td>\n",
       "      <td>100</td>\n",
       "    </tr>\n",
       "    <tr>\n",
       "      <th>...</th>\n",
       "      <td>...</td>\n",
       "      <td>...</td>\n",
       "      <td>...</td>\n",
       "    </tr>\n",
       "    <tr>\n",
       "      <th>245</th>\n",
       "      <td>male</td>\n",
       "      <td>completed</td>\n",
       "      <td>77</td>\n",
       "    </tr>\n",
       "    <tr>\n",
       "      <th>246</th>\n",
       "      <td>male</td>\n",
       "      <td>completed</td>\n",
       "      <td>77</td>\n",
       "    </tr>\n",
       "    <tr>\n",
       "      <th>247</th>\n",
       "      <td>male</td>\n",
       "      <td>completed</td>\n",
       "      <td>77</td>\n",
       "    </tr>\n",
       "    <tr>\n",
       "      <th>248</th>\n",
       "      <td>male</td>\n",
       "      <td>none</td>\n",
       "      <td>77</td>\n",
       "    </tr>\n",
       "    <tr>\n",
       "      <th>249</th>\n",
       "      <td>male</td>\n",
       "      <td>none</td>\n",
       "      <td>77</td>\n",
       "    </tr>\n",
       "  </tbody>\n",
       "</table>\n",
       "<p>250 rows × 3 columns</p>\n",
       "</div>"
      ],
      "text/plain": [
       "     gender test preparation course  math score\n",
       "0      male               completed         100\n",
       "1      male               completed         100\n",
       "2    female                    none         100\n",
       "3    female                    none         100\n",
       "4    female                    none         100\n",
       "..      ...                     ...         ...\n",
       "245    male               completed          77\n",
       "246    male               completed          77\n",
       "247    male               completed          77\n",
       "248    male                    none          77\n",
       "249    male                    none          77\n",
       "\n",
       "[250 rows x 3 columns]"
      ]
     },
     "execution_count": 21,
     "metadata": {},
     "output_type": "execute_result"
    }
   ],
   "source": [
    "# Displaying top 25% students based on their math score\n",
    "math_sort[['gender','test preparation course','math score']]"
   ]
  },
  {
   "cell_type": "code",
   "execution_count": null,
   "id": "8a6bd454",
   "metadata": {},
   "outputs": [],
   "source": []
  }
 ],
 "metadata": {
  "kernelspec": {
   "display_name": "Python 3 (ipykernel)",
   "language": "python",
   "name": "python3"
  },
  "language_info": {
   "codemirror_mode": {
    "name": "ipython",
    "version": 3
   },
   "file_extension": ".py",
   "mimetype": "text/x-python",
   "name": "python",
   "nbconvert_exporter": "python",
   "pygments_lexer": "ipython3",
   "version": "3.9.7"
  }
 },
 "nbformat": 4,
 "nbformat_minor": 5
}
